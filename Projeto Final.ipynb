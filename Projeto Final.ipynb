{
 "cells": [
  {
   "cell_type": "markdown",
   "metadata": {},
   "source": [
    "## Bibliotecas"
   ]
  },
  {
   "cell_type": "code",
   "execution_count": null,
   "metadata": {},
   "outputs": [],
   "source": [
    "import pandas as pd \n",
    "import requests \n",
    "from plyer import notification\n",
    "from datetime import datetime\n",
    "import notificacao\n",
    "import sqlite3\n",
    "import re\n",
    "import funcoes as func"
   ]
  },
  {
   "cell_type": "markdown",
   "metadata": {},
   "source": [
    "## Bancos"
   ]
  },
  {
   "cell_type": "markdown",
   "metadata": {},
   "source": [
    "### Extraindo a tabela **Bancos** da API"
   ]
  },
  {
   "cell_type": "code",
   "execution_count": null,
   "metadata": {},
   "outputs": [],
   "source": [
    "# Extraindo a tabela banks da API\n",
    "url = \"https://brasilapi.com.br/api/banks/v1\"\n",
    "\n",
    "bancos = func.importar(url)\n",
    "\n",
    "data = func.formato_datas()\n",
    "\n",
    "bancos_json = func.salvar_tabela(bancos)\n",
    "\n",
    "# Transformando as tabelas em um DataFrame\n",
    "bancos_full = pd.DataFrame(bancos_json)\n",
    "\n",
    "# Notificação \n",
    "notificacao.alerta(bancos, data, url)"
   ]
  },
  {
   "cell_type": "markdown",
   "metadata": {},
   "source": [
    "### Tratamento dos dados do dataframe"
   ]
  },
  {
   "cell_type": "code",
   "execution_count": null,
   "metadata": {},
   "outputs": [],
   "source": [
    "# Excluindo linhas com a coluna code que possuem missing values\n",
    "bancos_full = bancos_full.dropna(subset=['code'])\n",
    "\n",
    "#Transformando os dados da coluna code de float para int\n",
    "bancos_full = bancos_full.astype({'code':int})\n",
    "\n",
    "# Alterando o nome das colunas\n",
    "bancos_full_renomeado = func.altera_colunas(bancos_full)\n",
    "\n",
    "# Alterando a coluna Nome Completo para deixar todos nomes em maiusculo\n",
    "bancos_full_renomeado['Nome Completo']=bancos_full_renomeado['Nome Completo'].str.upper()\n",
    "\n",
    "#Tratamento de Missing Values\n",
    "bancos_full_tratado = (bancos_full_renomeado.dropna())\n",
    "\n",
    "# Ordenação pela coluna Código\n",
    "bancos_full_tratado.sort_values('Código')\n"
   ]
  },
  {
   "cell_type": "markdown",
   "metadata": {},
   "source": [
    "### Salvando os dataframes e dados brutos no Banco de Dados"
   ]
  },
  {
   "cell_type": "code",
   "execution_count": null,
   "metadata": {},
   "outputs": [],
   "source": [
    "# Conectando com banco de dados e salvando os dados brutos\n",
    "bancos_connect = sqlite3.connect('Projeto Final.db')\n",
    "bancos_full.to_sql('Bancos Bruto', bancos_connect, if_exists='replace', index=False )\n",
    "\n",
    "# Salvando os dados tratados no banco de dados e fechando a conexão\n",
    "bancos_full_tratado.to_sql('Bancos Tratado', bancos_connect, if_exists='replace', index=False )\n",
    "bancos_connect.close()\n",
    "\n",
    "bancos_full_tratado"
   ]
  },
  {
   "cell_type": "markdown",
   "metadata": {},
   "source": [
    "## Corretoras"
   ]
  },
  {
   "cell_type": "markdown",
   "metadata": {},
   "source": [
    "### Extraindo a tabela **Corretoras** da API"
   ]
  },
  {
   "cell_type": "code",
   "execution_count": null,
   "metadata": {},
   "outputs": [],
   "source": [
    "# Extraindo a tabela corretoras da API\n",
    "url = \"https://brasilapi.com.br/api/cvm/corretoras/v1\"\n",
    "\n",
    "corretoras = func.importar(url)\n",
    "\n",
    "data = func.formato_datas()\n",
    "\n",
    "\n",
    "corretoras_json = func.salvar_tabela(corretoras)\n",
    "\n",
    "# Transformando as tabelas em um DataFrame\n",
    "corretoras_full = pd.DataFrame(corretoras_json)\n",
    "\n",
    "# Notificacao \n",
    "\n",
    "notificacao.alerta(corretoras, data, url)"
   ]
  },
  {
   "cell_type": "markdown",
   "metadata": {},
   "source": [
    "### Tratamento dos dados do dataframe"
   ]
  },
  {
   "cell_type": "code",
   "execution_count": null,
   "metadata": {},
   "outputs": [],
   "source": [
    "# Alterando o nome das colunas\n",
    "\n",
    "corretoras_full_renomeado = func.nome_colunas(corretoras_full)\n",
    "\n",
    "# Formatacao da coluna valor patrimonio\n",
    "\n",
    "func.formato_valor(corretoras_full_renomeado,'Valor Patrimonio')\n",
    "\n",
    "# Formatacao das colunas com datas\n",
    "\n",
    "func.formato_data(corretoras_full_renomeado,'Data Registro')\n",
    "\n",
    "# Exclusão de colunas irrelevantes para a análise. \n",
    "\n",
    "corretoras_full_colunas = func.exclusao_colunas(corretoras_full_renomeado)\n",
    "\n",
    "# Ajustando o Formato do CNPJ\n",
    "\n",
    "corretoras_full_colunas['CNPJ'] = func.formato_cnpj(corretoras_full_colunas,'CNPJ')\n",
    "\n",
    "# Ajustando Formato do Telefone\n",
    "filtro_tel =  func.filtro_str_len(corretoras_full_colunas,'Telefone',8) \n",
    "corretoras_full_colunas.loc[filtro_tel, 'Telefone'] = func.ajuste_telefone(corretoras_full_colunas,filtro_tel,'Telefone')\n",
    "corretoras_full_colunas['Telefone'] = func.formato_telefone(corretoras_full_colunas, 'Telefone')\n",
    "\n",
    "# Excluindo corretoras que não possuem Telefone na base de dados\n",
    "filtro_sem_tel = func.string_vazia(corretoras_full_colunas,'Telefone',1) \n",
    "corretoras_full_colunas = func.drop_linhas(corretoras_full_colunas, filtro_sem_tel)\n",
    "\n",
    "#Excluindo Corretoras que não possuem Pais na base de dados\n",
    "filtro_pais = func.string_vazia(corretoras_full_colunas,'Pais',1)\n",
    "corretoras_full_colunas = func.drop_linhas(corretoras_full_colunas,filtro_pais)\n",
    "\n",
    "#Excluindo Corretoras que não possuem Municipio na base de dados\n",
    "filtro_municipio = func.string_vazia(corretoras_full_colunas, 'Municipio', 0)\n",
    "corretoras_full_colunas = func.drop_linhas(corretoras_full_colunas,filtro_municipio)\n",
    "\n",
    "#Excluindo Corretoras que não possuem UF na base de dados\n",
    "filtro_UF = func.string_vazia(corretoras_full_colunas,'UF',0)\n",
    "corretoras_full_colunas = func.drop_linhas(corretoras_full_colunas,filtro_UF) \n",
    "\n",
    "#Excluindo Corretoras que não possuem Bairro na base de dados\n",
    "filtro_bairro = func.string_vazia(corretoras_full_colunas,'Bairro',0)\n",
    "corretoras_full_colunas = func.drop_linhas(corretoras_full_colunas,filtro_bairro)\n",
    "\n",
    "#Excluindo corretoras que não possuem nome comercial\n",
    "filtro_nome_comercial = func.string_vazia(corretoras_full_colunas,'Nome Comercial',0)\n",
    "filtro_nome = func.caracter_especial(corretoras_full_colunas,'Nome Comercial','--')\n",
    "corretoras_full_colunas = func.drop_linhas(corretoras_full_colunas,filtro_nome_comercial)\n",
    "corretoras_full_colunas = func.drop_linhas(corretoras_full_colunas,filtro_nome)\n",
    "\n",
    "#Excluindo corretoras que possuem valor de patrimonio zerado\n",
    "filtro_valor = func.caracter_especial(corretoras_full_colunas,'Valor Patrimonio', 'R$0.00')\n",
    "corretoras_full_colunas = func.drop_linhas(corretoras_full_colunas,filtro_valor)\n",
    "\n",
    "# Filtrando as corretoras que estão em funcionamento\n",
    "corretoras_ativas = corretoras_full_colunas.loc[corretoras_full_colunas['Status'] =='EM FUNCIONAMENTO NORMAL']\n",
    "\n",
    "# Filtrando as corretoras que estão canceladas\n",
    "corretoras_canceladas = corretoras_full_colunas.loc[corretoras_full_colunas['Status'] =='CANCELADA']"
   ]
  },
  {
   "cell_type": "markdown",
   "metadata": {},
   "source": [
    "### Salvandos os dataframes e dados brutos no Banco de Dados"
   ]
  },
  {
   "cell_type": "code",
   "execution_count": null,
   "metadata": {},
   "outputs": [],
   "source": [
    "# Conectando com banco de dados e salvando os dados brutos\n",
    "corretoras_connect = sqlite3.connect('Projeto Final.db')\n",
    "corretoras_full.to_sql('Corretoras Bruto', corretoras_connect, if_exists='replace', index=False )\n",
    "\n",
    "# Salvando os dados tratados no banco de dados e fechando a conexão\n",
    "corretoras_full_colunas.to_sql('Corretoras Tratado', corretoras_connect, if_exists='replace', index=False )\n",
    "corretoras_ativas.to_sql('Corretoras Tratado Ativas', corretoras_connect, if_exists='replace', index=False )\n",
    "corretoras_canceladas.to_sql('Corretoras Tratado Canceladas', corretoras_connect, if_exists='replace', index=False )\n",
    "bancos_connect.close()\n",
    "\n",
    "corretoras_full_colunas"
   ]
  },
  {
   "cell_type": "markdown",
   "metadata": {},
   "source": [
    "## PIX"
   ]
  },
  {
   "cell_type": "markdown",
   "metadata": {},
   "source": [
    "### Extraindo a tabela **PIX** da API"
   ]
  },
  {
   "cell_type": "code",
   "execution_count": null,
   "metadata": {},
   "outputs": [],
   "source": [
    "# Extraindo a tabela PIX da API\n",
    "url = 'https://brasilapi.com.br/api/pix/v1/participants'\n",
    "\n",
    "pix = requests.get(url)\n",
    "\n",
    "data = datetime.now().strftime(\"%d/%m/%Y %H:%M:%S\")\n",
    "\n",
    "\n",
    "pix_json = func.salvar_tabela(pix)\n",
    "\n",
    "# Transformando as tabelas em um DataFrame\n",
    "pix_full = pd.DataFrame(pix_json)\n",
    "\n",
    "# Notificação\n",
    "notificacao.alerta(pix, data, url)"
   ]
  },
  {
   "cell_type": "markdown",
   "metadata": {},
   "source": [
    "### Tratamento dos dados do dataframe"
   ]
  },
  {
   "cell_type": "code",
   "execution_count": null,
   "metadata": {},
   "outputs": [],
   "source": [
    "# Alterando o nome das colunas\n",
    "pix_full_renomeado = func.modifica_coluna(pix_full)\n",
    "\n",
    "# Tratamento da coluna Inicio que contem data e hora\n",
    "pix_full_renomeado['Inicio'] = pd.to_datetime(pix_full_renomeado['Inicio'])\n",
    "pix_full_renomeado['Inicio'] = func.ajusta_datahora(pix_full_renomeado,'Inicio')"
   ]
  },
  {
   "cell_type": "markdown",
   "metadata": {},
   "source": [
    "### Salvando os dataframes e dados brutos no Banco de Dados"
   ]
  },
  {
   "cell_type": "code",
   "execution_count": null,
   "metadata": {},
   "outputs": [],
   "source": [
    "# Conectando com banco de dados e salvando os dados brutos\n",
    "pix_connect = sqlite3.connect('Projeto Final.db')\n",
    "pix_full.to_sql('Pix Bruto', pix_connect, if_exists='replace', index=False )\n",
    "\n",
    "# Salvando os dados tratados no banco de dados e fechando a conexão\n",
    "pix_full_renomeado.to_sql('Pix Tratado', pix_connect, if_exists='replace', index=False )\n",
    "pix_connect.close()\n",
    "\n",
    "\n",
    "pix_full_renomeado"
   ]
  }
 ],
 "metadata": {
  "kernelspec": {
   "display_name": "Python 3",
   "language": "python",
   "name": "python3"
  },
  "language_info": {
   "codemirror_mode": {
    "name": "ipython",
    "version": 3
   },
   "file_extension": ".py",
   "mimetype": "text/x-python",
   "name": "python",
   "nbconvert_exporter": "python",
   "pygments_lexer": "ipython3",
   "version": "3.12.1"
  }
 },
 "nbformat": 4,
 "nbformat_minor": 2
}
